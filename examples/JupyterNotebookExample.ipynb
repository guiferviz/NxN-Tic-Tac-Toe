{
 "cells": [
  {
   "cell_type": "code",
   "execution_count": 1,
   "metadata": {
    "scrolled": false
   },
   "outputs": [
    {
     "name": "stdout",
     "output_type": "stream",
     "text": [
      "New game. 3x3 board, connect 3.\n"
     ]
    },
    {
     "data": {
      "image/svg+xml": [
       "<svg height=\"90\" version=\"1.1\" viewBox=\"0 0 90 90\" width=\"90\" xmlns=\"http://www.w3.org/2000/svg\" xmlns:xlink=\"http://www.w3.org/1999/xlink\"><rect fill=\"none\" height=\"30\" stroke=\"black\" stroke-width=\"1\" width=\"30\" x=\"0\" y=\"0\" /><rect fill=\"none\" height=\"30\" stroke=\"black\" stroke-width=\"1\" width=\"30\" x=\"30\" y=\"0\" /><rect fill=\"none\" height=\"30\" stroke=\"black\" stroke-width=\"1\" width=\"30\" x=\"60\" y=\"0\" /><rect fill=\"none\" height=\"30\" stroke=\"black\" stroke-width=\"1\" width=\"30\" x=\"0\" y=\"30\" /><rect fill=\"none\" height=\"30\" stroke=\"black\" stroke-width=\"1\" width=\"30\" x=\"30\" y=\"30\" /><rect fill=\"none\" height=\"30\" stroke=\"black\" stroke-width=\"1\" width=\"30\" x=\"60\" y=\"30\" /><rect fill=\"none\" height=\"30\" stroke=\"black\" stroke-width=\"1\" width=\"30\" x=\"0\" y=\"60\" /><rect fill=\"none\" height=\"30\" stroke=\"black\" stroke-width=\"1\" width=\"30\" x=\"30\" y=\"60\" /><rect fill=\"none\" height=\"30\" stroke=\"black\" stroke-width=\"1\" width=\"30\" x=\"60\" y=\"60\" /></svg>"
      ],
      "text/plain": [
       "<nxntictactoe.board.Board at 0x28e13a06e10>"
      ]
     },
     "metadata": {},
     "output_type": "display_data"
    },
    {
     "name": "stdout",
     "output_type": "stream",
     "text": [
      "Player 1\n"
     ]
    },
    {
     "data": {
      "image/svg+xml": [
       "<svg height=\"90\" version=\"1.1\" viewBox=\"0 0 90 90\" width=\"90\" xmlns=\"http://www.w3.org/2000/svg\" xmlns:xlink=\"http://www.w3.org/1999/xlink\"><rect fill=\"none\" height=\"30\" stroke=\"black\" stroke-width=\"1\" width=\"30\" x=\"0\" y=\"0\" /><rect fill=\"none\" height=\"30\" stroke=\"black\" stroke-width=\"1\" width=\"30\" x=\"30\" y=\"0\" /><rect fill=\"none\" height=\"30\" stroke=\"black\" stroke-width=\"1\" width=\"30\" x=\"60\" y=\"0\" /><rect fill=\"none\" height=\"30\" stroke=\"black\" stroke-width=\"1\" width=\"30\" x=\"0\" y=\"30\" /><rect fill=\"none\" height=\"30\" stroke=\"black\" stroke-width=\"1\" width=\"30\" x=\"30\" y=\"30\" /><g transform=\"translate(30, 30)\" viewbox=\"0 0 30 30\">\n",
       "        <line fill=\"none\" stroke=\"red\" stroke-width=\"3\" x1=\"3\" x2=\"27\" y1=\"3\" y2=\"27\" />\n",
       "        <line fill=\"none\" stroke=\"red\" stroke-width=\"3\" x1=\"3\" x2=\"27\" y1=\"27\" y2=\"3\" />\n",
       "    </g><rect fill=\"none\" height=\"30\" stroke=\"black\" stroke-width=\"1\" width=\"30\" x=\"60\" y=\"30\" /><rect fill=\"none\" height=\"30\" stroke=\"black\" stroke-width=\"1\" width=\"30\" x=\"0\" y=\"60\" /><rect fill=\"none\" height=\"30\" stroke=\"black\" stroke-width=\"1\" width=\"30\" x=\"30\" y=\"60\" /><rect fill=\"none\" height=\"30\" stroke=\"black\" stroke-width=\"1\" width=\"30\" x=\"60\" y=\"60\" /></svg>"
      ],
      "text/plain": [
       "<nxntictactoe.board.Board at 0x28e13a06e10>"
      ]
     },
     "metadata": {},
     "output_type": "display_data"
    },
    {
     "name": "stdout",
     "output_type": "stream",
     "text": [
      "Player 2\n",
      "Row, Column: 1,1\n"
     ]
    },
    {
     "data": {
      "image/svg+xml": [
       "<svg height=\"90\" version=\"1.1\" viewBox=\"0 0 90 90\" width=\"90\" xmlns=\"http://www.w3.org/2000/svg\" xmlns:xlink=\"http://www.w3.org/1999/xlink\"><rect fill=\"none\" height=\"30\" stroke=\"black\" stroke-width=\"1\" width=\"30\" x=\"0\" y=\"0\" /><g transform=\"translate(0, 0)\" viewbox=\"0 0 30 30\">\n",
       "        <circle cx=\"15\" cy=\"15\" fill=\"none\" r=\"12\" stroke=\"blue\" stroke-width=\"3\" />\n",
       "    </g><rect fill=\"none\" height=\"30\" stroke=\"black\" stroke-width=\"1\" width=\"30\" x=\"30\" y=\"0\" /><rect fill=\"none\" height=\"30\" stroke=\"black\" stroke-width=\"1\" width=\"30\" x=\"60\" y=\"0\" /><rect fill=\"none\" height=\"30\" stroke=\"black\" stroke-width=\"1\" width=\"30\" x=\"0\" y=\"30\" /><rect fill=\"none\" height=\"30\" stroke=\"black\" stroke-width=\"1\" width=\"30\" x=\"30\" y=\"30\" /><g transform=\"translate(30, 30)\" viewbox=\"0 0 30 30\">\n",
       "        <line fill=\"none\" stroke=\"red\" stroke-width=\"3\" x1=\"3\" x2=\"27\" y1=\"3\" y2=\"27\" />\n",
       "        <line fill=\"none\" stroke=\"red\" stroke-width=\"3\" x1=\"3\" x2=\"27\" y1=\"27\" y2=\"3\" />\n",
       "    </g><rect fill=\"none\" height=\"30\" stroke=\"black\" stroke-width=\"1\" width=\"30\" x=\"60\" y=\"30\" /><rect fill=\"none\" height=\"30\" stroke=\"black\" stroke-width=\"1\" width=\"30\" x=\"0\" y=\"60\" /><rect fill=\"none\" height=\"30\" stroke=\"black\" stroke-width=\"1\" width=\"30\" x=\"30\" y=\"60\" /><rect fill=\"none\" height=\"30\" stroke=\"black\" stroke-width=\"1\" width=\"30\" x=\"60\" y=\"60\" /></svg>"
      ],
      "text/plain": [
       "<nxntictactoe.board.Board at 0x28e13a06e10>"
      ]
     },
     "metadata": {},
     "output_type": "display_data"
    },
    {
     "name": "stdout",
     "output_type": "stream",
     "text": [
      "Player 1\n"
     ]
    },
    {
     "data": {
      "image/svg+xml": [
       "<svg height=\"90\" version=\"1.1\" viewBox=\"0 0 90 90\" width=\"90\" xmlns=\"http://www.w3.org/2000/svg\" xmlns:xlink=\"http://www.w3.org/1999/xlink\"><rect fill=\"none\" height=\"30\" stroke=\"black\" stroke-width=\"1\" width=\"30\" x=\"0\" y=\"0\" /><g transform=\"translate(0, 0)\" viewbox=\"0 0 30 30\">\n",
       "        <circle cx=\"15\" cy=\"15\" fill=\"none\" r=\"12\" stroke=\"blue\" stroke-width=\"3\" />\n",
       "    </g><rect fill=\"none\" height=\"30\" stroke=\"black\" stroke-width=\"1\" width=\"30\" x=\"30\" y=\"0\" /><rect fill=\"none\" height=\"30\" stroke=\"black\" stroke-width=\"1\" width=\"30\" x=\"60\" y=\"0\" /><rect fill=\"none\" height=\"30\" stroke=\"black\" stroke-width=\"1\" width=\"30\" x=\"0\" y=\"30\" /><rect fill=\"none\" height=\"30\" stroke=\"black\" stroke-width=\"1\" width=\"30\" x=\"30\" y=\"30\" /><g transform=\"translate(30, 30)\" viewbox=\"0 0 30 30\">\n",
       "        <line fill=\"none\" stroke=\"red\" stroke-width=\"3\" x1=\"3\" x2=\"27\" y1=\"3\" y2=\"27\" />\n",
       "        <line fill=\"none\" stroke=\"red\" stroke-width=\"3\" x1=\"3\" x2=\"27\" y1=\"27\" y2=\"3\" />\n",
       "    </g><rect fill=\"none\" height=\"30\" stroke=\"black\" stroke-width=\"1\" width=\"30\" x=\"60\" y=\"30\" /><rect fill=\"none\" height=\"30\" stroke=\"black\" stroke-width=\"1\" width=\"30\" x=\"0\" y=\"60\" /><rect fill=\"none\" height=\"30\" stroke=\"black\" stroke-width=\"1\" width=\"30\" x=\"30\" y=\"60\" /><g transform=\"translate(30, 60)\" viewbox=\"0 0 30 30\">\n",
       "        <line fill=\"none\" stroke=\"red\" stroke-width=\"3\" x1=\"3\" x2=\"27\" y1=\"3\" y2=\"27\" />\n",
       "        <line fill=\"none\" stroke=\"red\" stroke-width=\"3\" x1=\"3\" x2=\"27\" y1=\"27\" y2=\"3\" />\n",
       "    </g><rect fill=\"none\" height=\"30\" stroke=\"black\" stroke-width=\"1\" width=\"30\" x=\"60\" y=\"60\" /></svg>"
      ],
      "text/plain": [
       "<nxntictactoe.board.Board at 0x28e13a06e10>"
      ]
     },
     "metadata": {},
     "output_type": "display_data"
    },
    {
     "name": "stdout",
     "output_type": "stream",
     "text": [
      "Player 2\n",
      "Row, Column: 2,1\n"
     ]
    },
    {
     "data": {
      "image/svg+xml": [
       "<svg height=\"90\" version=\"1.1\" viewBox=\"0 0 90 90\" width=\"90\" xmlns=\"http://www.w3.org/2000/svg\" xmlns:xlink=\"http://www.w3.org/1999/xlink\"><rect fill=\"none\" height=\"30\" stroke=\"black\" stroke-width=\"1\" width=\"30\" x=\"0\" y=\"0\" /><g transform=\"translate(0, 0)\" viewbox=\"0 0 30 30\">\n",
       "        <circle cx=\"15\" cy=\"15\" fill=\"none\" r=\"12\" stroke=\"blue\" stroke-width=\"3\" />\n",
       "    </g><rect fill=\"none\" height=\"30\" stroke=\"black\" stroke-width=\"1\" width=\"30\" x=\"30\" y=\"0\" /><rect fill=\"none\" height=\"30\" stroke=\"black\" stroke-width=\"1\" width=\"30\" x=\"60\" y=\"0\" /><rect fill=\"none\" height=\"30\" stroke=\"black\" stroke-width=\"1\" width=\"30\" x=\"0\" y=\"30\" /><g transform=\"translate(0, 30)\" viewbox=\"0 0 30 30\">\n",
       "        <circle cx=\"15\" cy=\"15\" fill=\"none\" r=\"12\" stroke=\"blue\" stroke-width=\"3\" />\n",
       "    </g><rect fill=\"none\" height=\"30\" stroke=\"black\" stroke-width=\"1\" width=\"30\" x=\"30\" y=\"30\" /><g transform=\"translate(30, 30)\" viewbox=\"0 0 30 30\">\n",
       "        <line fill=\"none\" stroke=\"red\" stroke-width=\"3\" x1=\"3\" x2=\"27\" y1=\"3\" y2=\"27\" />\n",
       "        <line fill=\"none\" stroke=\"red\" stroke-width=\"3\" x1=\"3\" x2=\"27\" y1=\"27\" y2=\"3\" />\n",
       "    </g><rect fill=\"none\" height=\"30\" stroke=\"black\" stroke-width=\"1\" width=\"30\" x=\"60\" y=\"30\" /><rect fill=\"none\" height=\"30\" stroke=\"black\" stroke-width=\"1\" width=\"30\" x=\"0\" y=\"60\" /><rect fill=\"none\" height=\"30\" stroke=\"black\" stroke-width=\"1\" width=\"30\" x=\"30\" y=\"60\" /><g transform=\"translate(30, 60)\" viewbox=\"0 0 30 30\">\n",
       "        <line fill=\"none\" stroke=\"red\" stroke-width=\"3\" x1=\"3\" x2=\"27\" y1=\"3\" y2=\"27\" />\n",
       "        <line fill=\"none\" stroke=\"red\" stroke-width=\"3\" x1=\"3\" x2=\"27\" y1=\"27\" y2=\"3\" />\n",
       "    </g><rect fill=\"none\" height=\"30\" stroke=\"black\" stroke-width=\"1\" width=\"30\" x=\"60\" y=\"60\" /></svg>"
      ],
      "text/plain": [
       "<nxntictactoe.board.Board at 0x28e13a06e10>"
      ]
     },
     "metadata": {},
     "output_type": "display_data"
    },
    {
     "name": "stdout",
     "output_type": "stream",
     "text": [
      "Player 1\n"
     ]
    },
    {
     "data": {
      "image/svg+xml": [
       "<svg height=\"90\" version=\"1.1\" viewBox=\"0 0 90 90\" width=\"90\" xmlns=\"http://www.w3.org/2000/svg\" xmlns:xlink=\"http://www.w3.org/1999/xlink\"><rect fill=\"none\" height=\"30\" stroke=\"black\" stroke-width=\"1\" width=\"30\" x=\"0\" y=\"0\" /><g transform=\"translate(0, 0)\" viewbox=\"0 0 30 30\">\n",
       "        <circle cx=\"15\" cy=\"15\" fill=\"none\" r=\"12\" stroke=\"blue\" stroke-width=\"3\" />\n",
       "    </g><rect fill=\"none\" height=\"30\" stroke=\"black\" stroke-width=\"1\" width=\"30\" x=\"30\" y=\"0\" /><g transform=\"translate(30, 0)\" viewbox=\"0 0 30 30\">\n",
       "        <line fill=\"none\" stroke=\"red\" stroke-width=\"3\" x1=\"3\" x2=\"27\" y1=\"3\" y2=\"27\" />\n",
       "        <line fill=\"none\" stroke=\"red\" stroke-width=\"3\" x1=\"3\" x2=\"27\" y1=\"27\" y2=\"3\" />\n",
       "    </g><rect fill=\"none\" height=\"30\" stroke=\"black\" stroke-width=\"1\" width=\"30\" x=\"60\" y=\"0\" /><rect fill=\"none\" height=\"30\" stroke=\"black\" stroke-width=\"1\" width=\"30\" x=\"0\" y=\"30\" /><g transform=\"translate(0, 30)\" viewbox=\"0 0 30 30\">\n",
       "        <circle cx=\"15\" cy=\"15\" fill=\"none\" r=\"12\" stroke=\"blue\" stroke-width=\"3\" />\n",
       "    </g><rect fill=\"none\" height=\"30\" stroke=\"black\" stroke-width=\"1\" width=\"30\" x=\"30\" y=\"30\" /><g transform=\"translate(30, 30)\" viewbox=\"0 0 30 30\">\n",
       "        <line fill=\"none\" stroke=\"red\" stroke-width=\"3\" x1=\"3\" x2=\"27\" y1=\"3\" y2=\"27\" />\n",
       "        <line fill=\"none\" stroke=\"red\" stroke-width=\"3\" x1=\"3\" x2=\"27\" y1=\"27\" y2=\"3\" />\n",
       "    </g><rect fill=\"none\" height=\"30\" stroke=\"black\" stroke-width=\"1\" width=\"30\" x=\"60\" y=\"30\" /><rect fill=\"none\" height=\"30\" stroke=\"black\" stroke-width=\"1\" width=\"30\" x=\"0\" y=\"60\" /><rect fill=\"none\" height=\"30\" stroke=\"black\" stroke-width=\"1\" width=\"30\" x=\"30\" y=\"60\" /><g transform=\"translate(30, 60)\" viewbox=\"0 0 30 30\">\n",
       "        <line fill=\"none\" stroke=\"red\" stroke-width=\"3\" x1=\"3\" x2=\"27\" y1=\"3\" y2=\"27\" />\n",
       "        <line fill=\"none\" stroke=\"red\" stroke-width=\"3\" x1=\"3\" x2=\"27\" y1=\"27\" y2=\"3\" />\n",
       "    </g><rect fill=\"none\" height=\"30\" stroke=\"black\" stroke-width=\"1\" width=\"30\" x=\"60\" y=\"60\" /></svg>"
      ],
      "text/plain": [
       "<nxntictactoe.board.Board at 0x28e13a06e10>"
      ]
     },
     "metadata": {},
     "output_type": "display_data"
    },
    {
     "name": "stdout",
     "output_type": "stream",
     "text": [
      "Player 1 wins\n",
      "Winner 1\n"
     ]
    },
    {
     "data": {
      "image/svg+xml": [
       "<svg height=\"90\" version=\"1.1\" viewBox=\"0 0 90 90\" width=\"90\" xmlns=\"http://www.w3.org/2000/svg\" xmlns:xlink=\"http://www.w3.org/1999/xlink\"><rect fill=\"none\" height=\"30\" stroke=\"black\" stroke-width=\"1\" width=\"30\" x=\"0\" y=\"0\" /><g transform=\"translate(0, 0)\" viewbox=\"0 0 30 30\">\n",
       "        <circle cx=\"15\" cy=\"15\" fill=\"none\" r=\"12\" stroke=\"blue\" stroke-width=\"3\" />\n",
       "    </g><rect fill=\"#ffff66\" height=\"30\" stroke=\"black\" stroke-width=\"1\" width=\"30\" x=\"30\" y=\"0\" /><g transform=\"translate(30, 0)\" viewbox=\"0 0 30 30\">\n",
       "        <line fill=\"none\" stroke=\"red\" stroke-width=\"3\" x1=\"3\" x2=\"27\" y1=\"3\" y2=\"27\" />\n",
       "        <line fill=\"none\" stroke=\"red\" stroke-width=\"3\" x1=\"3\" x2=\"27\" y1=\"27\" y2=\"3\" />\n",
       "    </g><rect fill=\"none\" height=\"30\" stroke=\"black\" stroke-width=\"1\" width=\"30\" x=\"60\" y=\"0\" /><rect fill=\"none\" height=\"30\" stroke=\"black\" stroke-width=\"1\" width=\"30\" x=\"0\" y=\"30\" /><g transform=\"translate(0, 30)\" viewbox=\"0 0 30 30\">\n",
       "        <circle cx=\"15\" cy=\"15\" fill=\"none\" r=\"12\" stroke=\"blue\" stroke-width=\"3\" />\n",
       "    </g><rect fill=\"#ffff66\" height=\"30\" stroke=\"black\" stroke-width=\"1\" width=\"30\" x=\"30\" y=\"30\" /><g transform=\"translate(30, 30)\" viewbox=\"0 0 30 30\">\n",
       "        <line fill=\"none\" stroke=\"red\" stroke-width=\"3\" x1=\"3\" x2=\"27\" y1=\"3\" y2=\"27\" />\n",
       "        <line fill=\"none\" stroke=\"red\" stroke-width=\"3\" x1=\"3\" x2=\"27\" y1=\"27\" y2=\"3\" />\n",
       "    </g><rect fill=\"none\" height=\"30\" stroke=\"black\" stroke-width=\"1\" width=\"30\" x=\"60\" y=\"30\" /><rect fill=\"none\" height=\"30\" stroke=\"black\" stroke-width=\"1\" width=\"30\" x=\"0\" y=\"60\" /><rect fill=\"#ffff66\" height=\"30\" stroke=\"black\" stroke-width=\"1\" width=\"30\" x=\"30\" y=\"60\" /><g transform=\"translate(30, 60)\" viewbox=\"0 0 30 30\">\n",
       "        <line fill=\"none\" stroke=\"red\" stroke-width=\"3\" x1=\"3\" x2=\"27\" y1=\"3\" y2=\"27\" />\n",
       "        <line fill=\"none\" stroke=\"red\" stroke-width=\"3\" x1=\"3\" x2=\"27\" y1=\"27\" y2=\"3\" />\n",
       "    </g><rect fill=\"none\" height=\"30\" stroke=\"black\" stroke-width=\"1\" width=\"30\" x=\"60\" y=\"60\" /></svg>"
      ],
      "text/plain": [
       "<nxntictactoe.board.Board at 0x28e13a06e10>"
      ]
     },
     "execution_count": 1,
     "metadata": {},
     "output_type": "execute_result"
    }
   ],
   "source": [
    "import nxntictactoe as ttt\n",
    "\n",
    "\n",
    "# Create board.\n",
    "rows = 3\n",
    "columns = 3\n",
    "connect = 3\n",
    "b = ttt.Board(rows, columns, connect)\n",
    "# Random player.\n",
    "p1 = ttt.Agent()\n",
    "# Player that ask the user the next movement.\n",
    "p2 = ttt.Player()\n",
    "# Create a game with that board and those 2 players.\n",
    "g = ttt.Game(b, [p1, p2])\n",
    "# Run the game in verbose mode.\n",
    "winner = g.start()\n",
    "\n",
    "print(\"Winner\", winner)\n",
    "b"
   ]
  },
  {
   "cell_type": "code",
   "execution_count": 2,
   "metadata": {},
   "outputs": [
    {
     "name": "stdout",
     "output_type": "stream",
     "text": [
      "Winner 3\n"
     ]
    },
    {
     "data": {
      "image/svg+xml": [
       "<svg height=\"210\" version=\"1.1\" viewBox=\"0 0 210 210\" width=\"210\" xmlns=\"http://www.w3.org/2000/svg\" xmlns:xlink=\"http://www.w3.org/1999/xlink\"><rect fill=\"none\" height=\"30\" stroke=\"black\" stroke-width=\"1\" width=\"30\" x=\"0\" y=\"0\" /><g transform=\"translate(0, 0)\" viewbox=\"0 0 30 30\">\n",
       "        <circle cx=\"15\" cy=\"15\" fill=\"none\" r=\"12\" stroke=\"blue\" stroke-width=\"3\" />\n",
       "    </g><rect fill=\"none\" height=\"30\" stroke=\"black\" stroke-width=\"1\" width=\"30\" x=\"30\" y=\"0\" /><g transform=\"translate(30, 0)\" viewbox=\"0 0 30 30\">\n",
       "        <line fill=\"none\" stroke=\"green\" stroke-linecap=\"round\" stroke-width=\"3\" x1=\"3\" x2=\"15\" y1=\"27\" y2=\"3\" />\n",
       "        <line fill=\"none\" stroke=\"green\" stroke-linecap=\"round\" stroke-width=\"3\" x1=\"15\" x2=\"27\" y1=\"3\" y2=\"27\" />\n",
       "        <line fill=\"none\" stroke=\"green\" stroke-linecap=\"round\" stroke-width=\"3\" x1=\"3\" x2=\"27\" y1=\"27\" y2=\"27\" />\n",
       "    </g><rect fill=\"none\" height=\"30\" stroke=\"black\" stroke-width=\"1\" width=\"30\" x=\"60\" y=\"0\" /><g transform=\"translate(60, 0)\" viewbox=\"0 0 30 30\">\n",
       "        <line fill=\"none\" stroke=\"green\" stroke-linecap=\"round\" stroke-width=\"3\" x1=\"3\" x2=\"15\" y1=\"27\" y2=\"3\" />\n",
       "        <line fill=\"none\" stroke=\"green\" stroke-linecap=\"round\" stroke-width=\"3\" x1=\"15\" x2=\"27\" y1=\"3\" y2=\"27\" />\n",
       "        <line fill=\"none\" stroke=\"green\" stroke-linecap=\"round\" stroke-width=\"3\" x1=\"3\" x2=\"27\" y1=\"27\" y2=\"27\" />\n",
       "    </g><rect fill=\"none\" height=\"30\" stroke=\"black\" stroke-width=\"1\" width=\"30\" x=\"90\" y=\"0\" /><g transform=\"translate(90, 0)\" viewbox=\"0 0 30 30\">\n",
       "        <line fill=\"none\" stroke=\"red\" stroke-width=\"3\" x1=\"3\" x2=\"27\" y1=\"3\" y2=\"27\" />\n",
       "        <line fill=\"none\" stroke=\"red\" stroke-width=\"3\" x1=\"3\" x2=\"27\" y1=\"27\" y2=\"3\" />\n",
       "    </g><rect fill=\"none\" height=\"30\" stroke=\"black\" stroke-width=\"1\" width=\"30\" x=\"120\" y=\"0\" /><g transform=\"translate(120, 0)\" viewbox=\"0 0 30 30\">\n",
       "        <circle cx=\"15\" cy=\"15\" fill=\"none\" r=\"12\" stroke=\"blue\" stroke-width=\"3\" />\n",
       "    </g><rect fill=\"none\" height=\"30\" stroke=\"black\" stroke-width=\"1\" width=\"30\" x=\"150\" y=\"0\" /><g transform=\"translate(150, 0)\" viewbox=\"0 0 30 30\">\n",
       "        <circle cx=\"15\" cy=\"15\" fill=\"none\" r=\"12\" stroke=\"blue\" stroke-width=\"3\" />\n",
       "    </g><rect fill=\"none\" height=\"30\" stroke=\"black\" stroke-width=\"1\" width=\"30\" x=\"180\" y=\"0\" /><g transform=\"translate(180, 0)\" viewbox=\"0 0 30 30\">\n",
       "        <line fill=\"none\" stroke=\"red\" stroke-width=\"3\" x1=\"3\" x2=\"27\" y1=\"3\" y2=\"27\" />\n",
       "        <line fill=\"none\" stroke=\"red\" stroke-width=\"3\" x1=\"3\" x2=\"27\" y1=\"27\" y2=\"3\" />\n",
       "    </g><rect fill=\"none\" height=\"30\" stroke=\"black\" stroke-width=\"1\" width=\"30\" x=\"0\" y=\"30\" /><g transform=\"translate(0, 30)\" viewbox=\"0 0 30 30\">\n",
       "        <line fill=\"none\" stroke=\"red\" stroke-width=\"3\" x1=\"3\" x2=\"27\" y1=\"3\" y2=\"27\" />\n",
       "        <line fill=\"none\" stroke=\"red\" stroke-width=\"3\" x1=\"3\" x2=\"27\" y1=\"27\" y2=\"3\" />\n",
       "    </g><rect fill=\"none\" height=\"30\" stroke=\"black\" stroke-width=\"1\" width=\"30\" x=\"30\" y=\"30\" /><g transform=\"translate(30, 30)\" viewbox=\"0 0 30 30\">\n",
       "        <line fill=\"none\" stroke=\"green\" stroke-linecap=\"round\" stroke-width=\"3\" x1=\"3\" x2=\"15\" y1=\"27\" y2=\"3\" />\n",
       "        <line fill=\"none\" stroke=\"green\" stroke-linecap=\"round\" stroke-width=\"3\" x1=\"15\" x2=\"27\" y1=\"3\" y2=\"27\" />\n",
       "        <line fill=\"none\" stroke=\"green\" stroke-linecap=\"round\" stroke-width=\"3\" x1=\"3\" x2=\"27\" y1=\"27\" y2=\"27\" />\n",
       "    </g><rect fill=\"none\" height=\"30\" stroke=\"black\" stroke-width=\"1\" width=\"30\" x=\"60\" y=\"30\" /><g transform=\"translate(60, 30)\" viewbox=\"0 0 30 30\">\n",
       "        <line fill=\"none\" stroke=\"green\" stroke-linecap=\"round\" stroke-width=\"3\" x1=\"3\" x2=\"15\" y1=\"27\" y2=\"3\" />\n",
       "        <line fill=\"none\" stroke=\"green\" stroke-linecap=\"round\" stroke-width=\"3\" x1=\"15\" x2=\"27\" y1=\"3\" y2=\"27\" />\n",
       "        <line fill=\"none\" stroke=\"green\" stroke-linecap=\"round\" stroke-width=\"3\" x1=\"3\" x2=\"27\" y1=\"27\" y2=\"27\" />\n",
       "    </g><rect fill=\"none\" height=\"30\" stroke=\"black\" stroke-width=\"1\" width=\"30\" x=\"90\" y=\"30\" /><rect fill=\"none\" height=\"30\" stroke=\"black\" stroke-width=\"1\" width=\"30\" x=\"120\" y=\"30\" /><g transform=\"translate(120, 30)\" viewbox=\"0 0 30 30\">\n",
       "        <line fill=\"none\" stroke=\"red\" stroke-width=\"3\" x1=\"3\" x2=\"27\" y1=\"3\" y2=\"27\" />\n",
       "        <line fill=\"none\" stroke=\"red\" stroke-width=\"3\" x1=\"3\" x2=\"27\" y1=\"27\" y2=\"3\" />\n",
       "    </g><rect fill=\"none\" height=\"30\" stroke=\"black\" stroke-width=\"1\" width=\"30\" x=\"150\" y=\"30\" /><rect fill=\"none\" height=\"30\" stroke=\"black\" stroke-width=\"1\" width=\"30\" x=\"180\" y=\"30\" /><g transform=\"translate(180, 30)\" viewbox=\"0 0 30 30\">\n",
       "        <circle cx=\"15\" cy=\"15\" fill=\"none\" r=\"12\" stroke=\"blue\" stroke-width=\"3\" />\n",
       "    </g><rect fill=\"none\" height=\"30\" stroke=\"black\" stroke-width=\"1\" width=\"30\" x=\"0\" y=\"60\" /><g transform=\"translate(0, 60)\" viewbox=\"0 0 30 30\">\n",
       "        <line fill=\"none\" stroke=\"red\" stroke-width=\"3\" x1=\"3\" x2=\"27\" y1=\"3\" y2=\"27\" />\n",
       "        <line fill=\"none\" stroke=\"red\" stroke-width=\"3\" x1=\"3\" x2=\"27\" y1=\"27\" y2=\"3\" />\n",
       "    </g><rect fill=\"none\" height=\"30\" stroke=\"black\" stroke-width=\"1\" width=\"30\" x=\"30\" y=\"60\" /><g transform=\"translate(30, 60)\" viewbox=\"0 0 30 30\">\n",
       "        <line fill=\"none\" stroke=\"red\" stroke-width=\"3\" x1=\"3\" x2=\"27\" y1=\"3\" y2=\"27\" />\n",
       "        <line fill=\"none\" stroke=\"red\" stroke-width=\"3\" x1=\"3\" x2=\"27\" y1=\"27\" y2=\"3\" />\n",
       "    </g><rect fill=\"none\" height=\"30\" stroke=\"black\" stroke-width=\"1\" width=\"30\" x=\"60\" y=\"60\" /><g transform=\"translate(60, 60)\" viewbox=\"0 0 30 30\">\n",
       "        <line fill=\"none\" stroke=\"green\" stroke-linecap=\"round\" stroke-width=\"3\" x1=\"3\" x2=\"15\" y1=\"27\" y2=\"3\" />\n",
       "        <line fill=\"none\" stroke=\"green\" stroke-linecap=\"round\" stroke-width=\"3\" x1=\"15\" x2=\"27\" y1=\"3\" y2=\"27\" />\n",
       "        <line fill=\"none\" stroke=\"green\" stroke-linecap=\"round\" stroke-width=\"3\" x1=\"3\" x2=\"27\" y1=\"27\" y2=\"27\" />\n",
       "    </g><rect fill=\"none\" height=\"30\" stroke=\"black\" stroke-width=\"1\" width=\"30\" x=\"90\" y=\"60\" /><g transform=\"translate(90, 60)\" viewbox=\"0 0 30 30\">\n",
       "        <circle cx=\"15\" cy=\"15\" fill=\"none\" r=\"12\" stroke=\"blue\" stroke-width=\"3\" />\n",
       "    </g><rect fill=\"none\" height=\"30\" stroke=\"black\" stroke-width=\"1\" width=\"30\" x=\"120\" y=\"60\" /><g transform=\"translate(120, 60)\" viewbox=\"0 0 30 30\">\n",
       "        <circle cx=\"15\" cy=\"15\" fill=\"none\" r=\"12\" stroke=\"blue\" stroke-width=\"3\" />\n",
       "    </g><rect fill=\"none\" height=\"30\" stroke=\"black\" stroke-width=\"1\" width=\"30\" x=\"150\" y=\"60\" /><g transform=\"translate(150, 60)\" viewbox=\"0 0 30 30\">\n",
       "        <line fill=\"none\" stroke=\"red\" stroke-width=\"3\" x1=\"3\" x2=\"27\" y1=\"3\" y2=\"27\" />\n",
       "        <line fill=\"none\" stroke=\"red\" stroke-width=\"3\" x1=\"3\" x2=\"27\" y1=\"27\" y2=\"3\" />\n",
       "    </g><rect fill=\"none\" height=\"30\" stroke=\"black\" stroke-width=\"1\" width=\"30\" x=\"180\" y=\"60\" /><g transform=\"translate(180, 60)\" viewbox=\"0 0 30 30\">\n",
       "        <line fill=\"none\" stroke=\"green\" stroke-linecap=\"round\" stroke-width=\"3\" x1=\"3\" x2=\"15\" y1=\"27\" y2=\"3\" />\n",
       "        <line fill=\"none\" stroke=\"green\" stroke-linecap=\"round\" stroke-width=\"3\" x1=\"15\" x2=\"27\" y1=\"3\" y2=\"27\" />\n",
       "        <line fill=\"none\" stroke=\"green\" stroke-linecap=\"round\" stroke-width=\"3\" x1=\"3\" x2=\"27\" y1=\"27\" y2=\"27\" />\n",
       "    </g><rect fill=\"none\" height=\"30\" stroke=\"black\" stroke-width=\"1\" width=\"30\" x=\"0\" y=\"90\" /><g transform=\"translate(0, 90)\" viewbox=\"0 0 30 30\">\n",
       "        <circle cx=\"15\" cy=\"15\" fill=\"none\" r=\"12\" stroke=\"blue\" stroke-width=\"3\" />\n",
       "    </g><rect fill=\"none\" height=\"30\" stroke=\"black\" stroke-width=\"1\" width=\"30\" x=\"30\" y=\"90\" /><g transform=\"translate(30, 90)\" viewbox=\"0 0 30 30\">\n",
       "        <line fill=\"none\" stroke=\"red\" stroke-width=\"3\" x1=\"3\" x2=\"27\" y1=\"3\" y2=\"27\" />\n",
       "        <line fill=\"none\" stroke=\"red\" stroke-width=\"3\" x1=\"3\" x2=\"27\" y1=\"27\" y2=\"3\" />\n",
       "    </g><rect fill=\"none\" height=\"30\" stroke=\"black\" stroke-width=\"1\" width=\"30\" x=\"60\" y=\"90\" /><rect fill=\"none\" height=\"30\" stroke=\"black\" stroke-width=\"1\" width=\"30\" x=\"90\" y=\"90\" /><g transform=\"translate(90, 90)\" viewbox=\"0 0 30 30\">\n",
       "        <line fill=\"none\" stroke=\"red\" stroke-width=\"3\" x1=\"3\" x2=\"27\" y1=\"3\" y2=\"27\" />\n",
       "        <line fill=\"none\" stroke=\"red\" stroke-width=\"3\" x1=\"3\" x2=\"27\" y1=\"27\" y2=\"3\" />\n",
       "    </g><rect fill=\"none\" height=\"30\" stroke=\"black\" stroke-width=\"1\" width=\"30\" x=\"120\" y=\"90\" /><g transform=\"translate(120, 90)\" viewbox=\"0 0 30 30\">\n",
       "        <line fill=\"none\" stroke=\"red\" stroke-width=\"3\" x1=\"3\" x2=\"27\" y1=\"3\" y2=\"27\" />\n",
       "        <line fill=\"none\" stroke=\"red\" stroke-width=\"3\" x1=\"3\" x2=\"27\" y1=\"27\" y2=\"3\" />\n",
       "    </g><rect fill=\"none\" height=\"30\" stroke=\"black\" stroke-width=\"1\" width=\"30\" x=\"150\" y=\"90\" /><g transform=\"translate(150, 90)\" viewbox=\"0 0 30 30\">\n",
       "        <line fill=\"none\" stroke=\"red\" stroke-width=\"3\" x1=\"3\" x2=\"27\" y1=\"3\" y2=\"27\" />\n",
       "        <line fill=\"none\" stroke=\"red\" stroke-width=\"3\" x1=\"3\" x2=\"27\" y1=\"27\" y2=\"3\" />\n",
       "    </g><rect fill=\"none\" height=\"30\" stroke=\"black\" stroke-width=\"1\" width=\"30\" x=\"180\" y=\"90\" /><g transform=\"translate(180, 90)\" viewbox=\"0 0 30 30\">\n",
       "        <circle cx=\"15\" cy=\"15\" fill=\"none\" r=\"12\" stroke=\"blue\" stroke-width=\"3\" />\n",
       "    </g><rect fill=\"none\" height=\"30\" stroke=\"black\" stroke-width=\"1\" width=\"30\" x=\"0\" y=\"120\" /><g transform=\"translate(0, 120)\" viewbox=\"0 0 30 30\">\n",
       "        <line fill=\"none\" stroke=\"red\" stroke-width=\"3\" x1=\"3\" x2=\"27\" y1=\"3\" y2=\"27\" />\n",
       "        <line fill=\"none\" stroke=\"red\" stroke-width=\"3\" x1=\"3\" x2=\"27\" y1=\"27\" y2=\"3\" />\n",
       "    </g><rect fill=\"none\" height=\"30\" stroke=\"black\" stroke-width=\"1\" width=\"30\" x=\"30\" y=\"120\" /><g transform=\"translate(30, 120)\" viewbox=\"0 0 30 30\">\n",
       "        <line fill=\"none\" stroke=\"red\" stroke-width=\"3\" x1=\"3\" x2=\"27\" y1=\"3\" y2=\"27\" />\n",
       "        <line fill=\"none\" stroke=\"red\" stroke-width=\"3\" x1=\"3\" x2=\"27\" y1=\"27\" y2=\"3\" />\n",
       "    </g><rect fill=\"#ffff66\" height=\"30\" stroke=\"black\" stroke-width=\"1\" width=\"30\" x=\"60\" y=\"120\" /><g transform=\"translate(60, 120)\" viewbox=\"0 0 30 30\">\n",
       "        <line fill=\"none\" stroke=\"green\" stroke-linecap=\"round\" stroke-width=\"3\" x1=\"3\" x2=\"15\" y1=\"27\" y2=\"3\" />\n",
       "        <line fill=\"none\" stroke=\"green\" stroke-linecap=\"round\" stroke-width=\"3\" x1=\"15\" x2=\"27\" y1=\"3\" y2=\"27\" />\n",
       "        <line fill=\"none\" stroke=\"green\" stroke-linecap=\"round\" stroke-width=\"3\" x1=\"3\" x2=\"27\" y1=\"27\" y2=\"27\" />\n",
       "    </g><rect fill=\"#ffff66\" height=\"30\" stroke=\"black\" stroke-width=\"1\" width=\"30\" x=\"90\" y=\"120\" /><g transform=\"translate(90, 120)\" viewbox=\"0 0 30 30\">\n",
       "        <line fill=\"none\" stroke=\"green\" stroke-linecap=\"round\" stroke-width=\"3\" x1=\"3\" x2=\"15\" y1=\"27\" y2=\"3\" />\n",
       "        <line fill=\"none\" stroke=\"green\" stroke-linecap=\"round\" stroke-width=\"3\" x1=\"15\" x2=\"27\" y1=\"3\" y2=\"27\" />\n",
       "        <line fill=\"none\" stroke=\"green\" stroke-linecap=\"round\" stroke-width=\"3\" x1=\"3\" x2=\"27\" y1=\"27\" y2=\"27\" />\n",
       "    </g><rect fill=\"#ffff66\" height=\"30\" stroke=\"black\" stroke-width=\"1\" width=\"30\" x=\"120\" y=\"120\" /><g transform=\"translate(120, 120)\" viewbox=\"0 0 30 30\">\n",
       "        <line fill=\"none\" stroke=\"green\" stroke-linecap=\"round\" stroke-width=\"3\" x1=\"3\" x2=\"15\" y1=\"27\" y2=\"3\" />\n",
       "        <line fill=\"none\" stroke=\"green\" stroke-linecap=\"round\" stroke-width=\"3\" x1=\"15\" x2=\"27\" y1=\"3\" y2=\"27\" />\n",
       "        <line fill=\"none\" stroke=\"green\" stroke-linecap=\"round\" stroke-width=\"3\" x1=\"3\" x2=\"27\" y1=\"27\" y2=\"27\" />\n",
       "    </g><rect fill=\"#ffff66\" height=\"30\" stroke=\"black\" stroke-width=\"1\" width=\"30\" x=\"150\" y=\"120\" /><g transform=\"translate(150, 120)\" viewbox=\"0 0 30 30\">\n",
       "        <line fill=\"none\" stroke=\"green\" stroke-linecap=\"round\" stroke-width=\"3\" x1=\"3\" x2=\"15\" y1=\"27\" y2=\"3\" />\n",
       "        <line fill=\"none\" stroke=\"green\" stroke-linecap=\"round\" stroke-width=\"3\" x1=\"15\" x2=\"27\" y1=\"3\" y2=\"27\" />\n",
       "        <line fill=\"none\" stroke=\"green\" stroke-linecap=\"round\" stroke-width=\"3\" x1=\"3\" x2=\"27\" y1=\"27\" y2=\"27\" />\n",
       "    </g><rect fill=\"#ffff66\" height=\"30\" stroke=\"black\" stroke-width=\"1\" width=\"30\" x=\"180\" y=\"120\" /><g transform=\"translate(180, 120)\" viewbox=\"0 0 30 30\">\n",
       "        <line fill=\"none\" stroke=\"green\" stroke-linecap=\"round\" stroke-width=\"3\" x1=\"3\" x2=\"15\" y1=\"27\" y2=\"3\" />\n",
       "        <line fill=\"none\" stroke=\"green\" stroke-linecap=\"round\" stroke-width=\"3\" x1=\"15\" x2=\"27\" y1=\"3\" y2=\"27\" />\n",
       "        <line fill=\"none\" stroke=\"green\" stroke-linecap=\"round\" stroke-width=\"3\" x1=\"3\" x2=\"27\" y1=\"27\" y2=\"27\" />\n",
       "    </g><rect fill=\"none\" height=\"30\" stroke=\"black\" stroke-width=\"1\" width=\"30\" x=\"0\" y=\"150\" /><g transform=\"translate(0, 150)\" viewbox=\"0 0 30 30\">\n",
       "        <circle cx=\"15\" cy=\"15\" fill=\"none\" r=\"12\" stroke=\"blue\" stroke-width=\"3\" />\n",
       "    </g><rect fill=\"none\" height=\"30\" stroke=\"black\" stroke-width=\"1\" width=\"30\" x=\"30\" y=\"150\" /><g transform=\"translate(30, 150)\" viewbox=\"0 0 30 30\">\n",
       "        <line fill=\"none\" stroke=\"green\" stroke-linecap=\"round\" stroke-width=\"3\" x1=\"3\" x2=\"15\" y1=\"27\" y2=\"3\" />\n",
       "        <line fill=\"none\" stroke=\"green\" stroke-linecap=\"round\" stroke-width=\"3\" x1=\"15\" x2=\"27\" y1=\"3\" y2=\"27\" />\n",
       "        <line fill=\"none\" stroke=\"green\" stroke-linecap=\"round\" stroke-width=\"3\" x1=\"3\" x2=\"27\" y1=\"27\" y2=\"27\" />\n",
       "    </g><rect fill=\"none\" height=\"30\" stroke=\"black\" stroke-width=\"1\" width=\"30\" x=\"60\" y=\"150\" /><g transform=\"translate(60, 150)\" viewbox=\"0 0 30 30\">\n",
       "        <line fill=\"none\" stroke=\"red\" stroke-width=\"3\" x1=\"3\" x2=\"27\" y1=\"3\" y2=\"27\" />\n",
       "        <line fill=\"none\" stroke=\"red\" stroke-width=\"3\" x1=\"3\" x2=\"27\" y1=\"27\" y2=\"3\" />\n",
       "    </g><rect fill=\"none\" height=\"30\" stroke=\"black\" stroke-width=\"1\" width=\"30\" x=\"90\" y=\"150\" /><g transform=\"translate(90, 150)\" viewbox=\"0 0 30 30\">\n",
       "        <circle cx=\"15\" cy=\"15\" fill=\"none\" r=\"12\" stroke=\"blue\" stroke-width=\"3\" />\n",
       "    </g><rect fill=\"none\" height=\"30\" stroke=\"black\" stroke-width=\"1\" width=\"30\" x=\"120\" y=\"150\" /><g transform=\"translate(120, 150)\" viewbox=\"0 0 30 30\">\n",
       "        <circle cx=\"15\" cy=\"15\" fill=\"none\" r=\"12\" stroke=\"blue\" stroke-width=\"3\" />\n",
       "    </g><rect fill=\"none\" height=\"30\" stroke=\"black\" stroke-width=\"1\" width=\"30\" x=\"150\" y=\"150\" /><g transform=\"translate(150, 150)\" viewbox=\"0 0 30 30\">\n",
       "        <circle cx=\"15\" cy=\"15\" fill=\"none\" r=\"12\" stroke=\"blue\" stroke-width=\"3\" />\n",
       "    </g><rect fill=\"none\" height=\"30\" stroke=\"black\" stroke-width=\"1\" width=\"30\" x=\"180\" y=\"150\" /><g transform=\"translate(180, 150)\" viewbox=\"0 0 30 30\">\n",
       "        <line fill=\"none\" stroke=\"green\" stroke-linecap=\"round\" stroke-width=\"3\" x1=\"3\" x2=\"15\" y1=\"27\" y2=\"3\" />\n",
       "        <line fill=\"none\" stroke=\"green\" stroke-linecap=\"round\" stroke-width=\"3\" x1=\"15\" x2=\"27\" y1=\"3\" y2=\"27\" />\n",
       "        <line fill=\"none\" stroke=\"green\" stroke-linecap=\"round\" stroke-width=\"3\" x1=\"3\" x2=\"27\" y1=\"27\" y2=\"27\" />\n",
       "    </g><rect fill=\"none\" height=\"30\" stroke=\"black\" stroke-width=\"1\" width=\"30\" x=\"0\" y=\"180\" /><rect fill=\"none\" height=\"30\" stroke=\"black\" stroke-width=\"1\" width=\"30\" x=\"30\" y=\"180\" /><g transform=\"translate(30, 180)\" viewbox=\"0 0 30 30\">\n",
       "        <circle cx=\"15\" cy=\"15\" fill=\"none\" r=\"12\" stroke=\"blue\" stroke-width=\"3\" />\n",
       "    </g><rect fill=\"none\" height=\"30\" stroke=\"black\" stroke-width=\"1\" width=\"30\" x=\"60\" y=\"180\" /><g transform=\"translate(60, 180)\" viewbox=\"0 0 30 30\">\n",
       "        <line fill=\"none\" stroke=\"red\" stroke-width=\"3\" x1=\"3\" x2=\"27\" y1=\"3\" y2=\"27\" />\n",
       "        <line fill=\"none\" stroke=\"red\" stroke-width=\"3\" x1=\"3\" x2=\"27\" y1=\"27\" y2=\"3\" />\n",
       "    </g><rect fill=\"none\" height=\"30\" stroke=\"black\" stroke-width=\"1\" width=\"30\" x=\"90\" y=\"180\" /><g transform=\"translate(90, 180)\" viewbox=\"0 0 30 30\">\n",
       "        <circle cx=\"15\" cy=\"15\" fill=\"none\" r=\"12\" stroke=\"blue\" stroke-width=\"3\" />\n",
       "    </g><rect fill=\"none\" height=\"30\" stroke=\"black\" stroke-width=\"1\" width=\"30\" x=\"120\" y=\"180\" /><g transform=\"translate(120, 180)\" viewbox=\"0 0 30 30\">\n",
       "        <circle cx=\"15\" cy=\"15\" fill=\"none\" r=\"12\" stroke=\"blue\" stroke-width=\"3\" />\n",
       "    </g><rect fill=\"none\" height=\"30\" stroke=\"black\" stroke-width=\"1\" width=\"30\" x=\"150\" y=\"180\" /><g transform=\"translate(150, 180)\" viewbox=\"0 0 30 30\">\n",
       "        <line fill=\"none\" stroke=\"green\" stroke-linecap=\"round\" stroke-width=\"3\" x1=\"3\" x2=\"15\" y1=\"27\" y2=\"3\" />\n",
       "        <line fill=\"none\" stroke=\"green\" stroke-linecap=\"round\" stroke-width=\"3\" x1=\"15\" x2=\"27\" y1=\"3\" y2=\"27\" />\n",
       "        <line fill=\"none\" stroke=\"green\" stroke-linecap=\"round\" stroke-width=\"3\" x1=\"3\" x2=\"27\" y1=\"27\" y2=\"27\" />\n",
       "    </g><rect fill=\"none\" height=\"30\" stroke=\"black\" stroke-width=\"1\" width=\"30\" x=\"180\" y=\"180\" /><g transform=\"translate(180, 180)\" viewbox=\"0 0 30 30\">\n",
       "        <line fill=\"none\" stroke=\"green\" stroke-linecap=\"round\" stroke-width=\"3\" x1=\"3\" x2=\"15\" y1=\"27\" y2=\"3\" />\n",
       "        <line fill=\"none\" stroke=\"green\" stroke-linecap=\"round\" stroke-width=\"3\" x1=\"15\" x2=\"27\" y1=\"3\" y2=\"27\" />\n",
       "        <line fill=\"none\" stroke=\"green\" stroke-linecap=\"round\" stroke-width=\"3\" x1=\"3\" x2=\"27\" y1=\"27\" y2=\"27\" />\n",
       "    </g></svg>"
      ],
      "text/plain": [
       "<nxntictactoe.board.Board at 0x28e13a06b00>"
      ]
     },
     "execution_count": 2,
     "metadata": {},
     "output_type": "execute_result"
    }
   ],
   "source": [
    "# Game between 3 random agents.\n",
    "b = ttt.Board(7, 7, 4)\n",
    "g = ttt.Game(b, [p1, p1, p1])\n",
    "winner = g.start_fast()\n",
    "print(\"Winner\", winner)\n",
    "b"
   ]
  }
 ],
 "metadata": {
  "kernelspec": {
   "display_name": "Python 3",
   "language": "python",
   "name": "python3"
  },
  "language_info": {
   "codemirror_mode": {
    "name": "ipython",
    "version": 3
   },
   "file_extension": ".py",
   "mimetype": "text/x-python",
   "name": "python",
   "nbconvert_exporter": "python",
   "pygments_lexer": "ipython3",
   "version": "3.5.2"
  }
 },
 "nbformat": 4,
 "nbformat_minor": 2
}
